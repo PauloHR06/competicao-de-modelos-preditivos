{
 "cells": [
  {
   "cell_type": "markdown",
   "metadata": {},
   "source": [
    "# Modelo preditivo"
   ]
  },
  {
   "cell_type": "markdown",
   "metadata": {},
   "source": [
    "* train.csv - o conjunto de treinamento, com 20 colunas + coluna-alvo de \"popularity\"\n",
    "* test.csv - o conjunto de teste, com 20 colunas\n",
    "* sample_submission.csv - um exemplo de arquivo de submissão, para você estruturar suas respostas."
   ]
  },
  {
   "cell_type": "markdown",
   "metadata": {},
   "source": [
    "* **Importings e bibliotecas**"
   ]
  },
  {
   "cell_type": "code",
   "execution_count": 2,
   "metadata": {},
   "outputs": [],
   "source": [
    "import pandas as pd\n",
    "import numpy as np\n",
    "from sklearn.ensemble import IsolationForest\n",
    "from sklearn.preprocessing import StandardScaler, LabelEncoder\n",
    "import matplotlib.pyplot as plt\n",
    "import seaborn as sns\n",
    "from sklearn.model_selection import train_test_split\n",
    "from sklearn.ensemble import RandomForestClassifier\n",
    "from sklearn.metrics import mean_squared_error"
   ]
  },
  {
   "cell_type": "markdown",
   "metadata": {},
   "source": [
    "* **Carregando o dataframe**"
   ]
  },
  {
   "cell_type": "code",
   "execution_count": 3,
   "metadata": {},
   "outputs": [],
   "source": [
    "df_test = pd.read_csv(\"test.csv\")\n",
    "df_train = pd.read_csv(\"train.csv\")"
   ]
  },
  {
   "cell_type": "markdown",
   "metadata": {},
   "source": [
    "* **Informações iniciais**"
   ]
  },
  {
   "cell_type": "code",
   "execution_count": 4,
   "metadata": {},
   "outputs": [
    {
     "name": "stdout",
     "output_type": "stream",
     "text": [
      "<class 'pandas.core.frame.DataFrame'>\n",
      "RangeIndex: 34200 entries, 0 to 34199\n",
      "Data columns (total 20 columns):\n",
      " #   Column            Non-Null Count  Dtype  \n",
      "---  ------            --------------  -----  \n",
      " 0   track_unique_id   34200 non-null  int64  \n",
      " 1   track_id          34200 non-null  object \n",
      " 2   artists           34199 non-null  object \n",
      " 3   album_name        34199 non-null  object \n",
      " 4   track_name        34199 non-null  object \n",
      " 5   duration_ms       34200 non-null  int64  \n",
      " 6   explicit          34200 non-null  bool   \n",
      " 7   danceability      34200 non-null  float64\n",
      " 8   energy            34200 non-null  float64\n",
      " 9   key               34200 non-null  int64  \n",
      " 10  loudness          34200 non-null  float64\n",
      " 11  mode              34200 non-null  int64  \n",
      " 12  speechiness       34200 non-null  float64\n",
      " 13  acousticness      34200 non-null  float64\n",
      " 14  instrumentalness  34200 non-null  float64\n",
      " 15  liveness          34200 non-null  float64\n",
      " 16  valence           34200 non-null  float64\n",
      " 17  tempo             34200 non-null  float64\n",
      " 18  time_signature    34200 non-null  int64  \n",
      " 19  track_genre       34200 non-null  object \n",
      "dtypes: bool(1), float64(9), int64(5), object(5)\n",
      "memory usage: 5.0+ MB\n"
     ]
    }
   ],
   "source": [
    "df_test.info()"
   ]
  },
  {
   "cell_type": "code",
   "execution_count": 5,
   "metadata": {},
   "outputs": [
    {
     "name": "stdout",
     "output_type": "stream",
     "text": [
      "<class 'pandas.core.frame.DataFrame'>\n",
      "RangeIndex: 79800 entries, 0 to 79799\n",
      "Data columns (total 21 columns):\n",
      " #   Column             Non-Null Count  Dtype  \n",
      "---  ------             --------------  -----  \n",
      " 0   track_unique_id    79800 non-null  int64  \n",
      " 1   track_id           79800 non-null  object \n",
      " 2   artists            79800 non-null  object \n",
      " 3   album_name         79800 non-null  object \n",
      " 4   track_name         79800 non-null  object \n",
      " 5   duration_ms        79800 non-null  int64  \n",
      " 6   explicit           79800 non-null  bool   \n",
      " 7   danceability       79800 non-null  float64\n",
      " 8   energy             79800 non-null  float64\n",
      " 9   key                79800 non-null  int64  \n",
      " 10  loudness           79800 non-null  float64\n",
      " 11  mode               79800 non-null  int64  \n",
      " 12  speechiness        79800 non-null  float64\n",
      " 13  acousticness       79800 non-null  float64\n",
      " 14  instrumentalness   79800 non-null  float64\n",
      " 15  liveness           79800 non-null  float64\n",
      " 16  valence            79800 non-null  float64\n",
      " 17  tempo              79800 non-null  float64\n",
      " 18  time_signature     79800 non-null  int64  \n",
      " 19  track_genre        79800 non-null  object \n",
      " 20  popularity_target  79800 non-null  int64  \n",
      "dtypes: bool(1), float64(9), int64(6), object(5)\n",
      "memory usage: 12.3+ MB\n"
     ]
    }
   ],
   "source": [
    "df_train.info()"
   ]
  },
  {
   "cell_type": "markdown",
   "metadata": {},
   "source": [
    "* **Missing values**"
   ]
  },
  {
   "cell_type": "code",
   "execution_count": 6,
   "metadata": {},
   "outputs": [
    {
     "name": "stdout",
     "output_type": "stream",
     "text": [
      "track_unique_id      0\n",
      "track_id             0\n",
      "artists              0\n",
      "album_name           0\n",
      "track_name           0\n",
      "duration_ms          0\n",
      "explicit             0\n",
      "danceability         0\n",
      "energy               0\n",
      "key                  0\n",
      "loudness             0\n",
      "mode                 0\n",
      "speechiness          0\n",
      "acousticness         0\n",
      "instrumentalness     0\n",
      "liveness             0\n",
      "valence              0\n",
      "tempo                0\n",
      "time_signature       0\n",
      "track_genre          0\n",
      "popularity_target    0\n",
      "dtype: int64\n"
     ]
    }
   ],
   "source": [
    "missing_values = df_train.isnull().sum()\n",
    "print(missing_values)"
   ]
  },
  {
   "cell_type": "markdown",
   "metadata": {},
   "source": [
    "&emsp;Criando uma cópia do dataframe para fazer o pré-processamento: "
   ]
  },
  {
   "cell_type": "code",
   "execution_count": 7,
   "metadata": {},
   "outputs": [],
   "source": [
    "df_normalized = df_train.copy()\n",
    "df_test_normalized = df_test.copy()"
   ]
  },
  {
   "cell_type": "markdown",
   "metadata": {},
   "source": [
    "&emsp;Definição das colunas numéricas, categóricas e coluna-alvo:"
   ]
  },
  {
   "cell_type": "code",
   "execution_count": 8,
   "metadata": {},
   "outputs": [],
   "source": [
    "categorical_cols = ['track_id', 'artists', 'album_name', 'track_name', 'track_genre']\n",
    "numerical_cols = ['duration_ms', 'danceability', 'energy', 'key', 'loudness', 'speechiness',\n",
    "                  'acousticness', 'instrumentalness', 'liveness', 'valence', 'tempo', 'time_signature']\n",
    "target_column = ['popularity_target']\n"
   ]
  },
  {
   "cell_type": "markdown",
   "metadata": {},
   "source": [
    "&emsp;Codificando variáveis categóricas:"
   ]
  },
  {
   "cell_type": "code",
   "execution_count": 9,
   "metadata": {},
   "outputs": [],
   "source": [
    "label_encoder = LabelEncoder()\n",
    "\n",
    "for col in categorical_cols:\n",
    "    df_normalized[col] = label_encoder.fit_transform(df_normalized[col])\n",
    "\n",
    "for col in categorical_cols:\n",
    "    df_normalized[col] = label_encoder.fit_transform(df_normalized[col])\n"
   ]
  },
  {
   "cell_type": "markdown",
   "metadata": {},
   "source": [
    "&emsp;Identificação e remoção de _outliers_:"
   ]
  },
  {
   "cell_type": "code",
   "execution_count": 10,
   "metadata": {},
   "outputs": [],
   "source": [
    "iso_forest = IsolationForest(contamination=0.1, random_state=42)    \n",
    "outliers = iso_forest.fit_predict(df_normalized)\n",
    "df_normalized['Outlier'] = outliers\n",
    "\n",
    "df_normalized = df_normalized[df_normalized['Outlier'] != -1].drop(columns='Outlier')\n"
   ]
  },
  {
   "cell_type": "markdown",
   "metadata": {},
   "source": [
    "&emsp;Padronizando variáveis numéricas:"
   ]
  },
  {
   "cell_type": "code",
   "execution_count": 11,
   "metadata": {},
   "outputs": [
    {
     "data": {
      "text/html": [
       "<div>\n",
       "<style scoped>\n",
       "    .dataframe tbody tr th:only-of-type {\n",
       "        vertical-align: middle;\n",
       "    }\n",
       "\n",
       "    .dataframe tbody tr th {\n",
       "        vertical-align: top;\n",
       "    }\n",
       "\n",
       "    .dataframe thead th {\n",
       "        text-align: right;\n",
       "    }\n",
       "</style>\n",
       "<table border=\"1\" class=\"dataframe\">\n",
       "  <thead>\n",
       "    <tr style=\"text-align: right;\">\n",
       "      <th></th>\n",
       "      <th>track_id</th>\n",
       "      <th>artists</th>\n",
       "      <th>album_name</th>\n",
       "      <th>track_name</th>\n",
       "      <th>track_genre</th>\n",
       "      <th>duration_ms</th>\n",
       "      <th>danceability</th>\n",
       "      <th>energy</th>\n",
       "      <th>key</th>\n",
       "      <th>loudness</th>\n",
       "      <th>speechiness</th>\n",
       "      <th>acousticness</th>\n",
       "      <th>instrumentalness</th>\n",
       "      <th>liveness</th>\n",
       "      <th>valence</th>\n",
       "      <th>tempo</th>\n",
       "      <th>time_signature</th>\n",
       "      <th>popularity_target</th>\n",
       "    </tr>\n",
       "  </thead>\n",
       "  <tbody>\n",
       "    <tr>\n",
       "      <th>count</th>\n",
       "      <td>71820.000000</td>\n",
       "      <td>71820.000000</td>\n",
       "      <td>71820.000000</td>\n",
       "      <td>71820.000000</td>\n",
       "      <td>71820.000000</td>\n",
       "      <td>7.182000e+04</td>\n",
       "      <td>7.182000e+04</td>\n",
       "      <td>7.182000e+04</td>\n",
       "      <td>7.182000e+04</td>\n",
       "      <td>7.182000e+04</td>\n",
       "      <td>7.182000e+04</td>\n",
       "      <td>7.182000e+04</td>\n",
       "      <td>7.182000e+04</td>\n",
       "      <td>7.182000e+04</td>\n",
       "      <td>7.182000e+04</td>\n",
       "      <td>7.182000e+04</td>\n",
       "      <td>7.182000e+04</td>\n",
       "      <td>71820.000000</td>\n",
       "    </tr>\n",
       "    <tr>\n",
       "      <th>mean</th>\n",
       "      <td>33420.583083</td>\n",
       "      <td>12867.553801</td>\n",
       "      <td>18070.648134</td>\n",
       "      <td>27639.288847</td>\n",
       "      <td>57.287413</td>\n",
       "      <td>2.928441e-17</td>\n",
       "      <td>4.847757e-16</td>\n",
       "      <td>-3.640765e-17</td>\n",
       "      <td>-3.264816e-17</td>\n",
       "      <td>-7.697052e-17</td>\n",
       "      <td>7.835559e-17</td>\n",
       "      <td>-1.482029e-16</td>\n",
       "      <td>8.458842e-18</td>\n",
       "      <td>9.428394e-17</td>\n",
       "      <td>-1.144664e-16</td>\n",
       "      <td>1.838190e-16</td>\n",
       "      <td>5.817309e-17</td>\n",
       "      <td>0.497536</td>\n",
       "    </tr>\n",
       "    <tr>\n",
       "      <th>std</th>\n",
       "      <td>19148.199272</td>\n",
       "      <td>7372.022352</td>\n",
       "      <td>10703.533596</td>\n",
       "      <td>15737.991025</td>\n",
       "      <td>32.322040</td>\n",
       "      <td>1.000007e+00</td>\n",
       "      <td>1.000007e+00</td>\n",
       "      <td>1.000007e+00</td>\n",
       "      <td>1.000007e+00</td>\n",
       "      <td>1.000007e+00</td>\n",
       "      <td>1.000007e+00</td>\n",
       "      <td>1.000007e+00</td>\n",
       "      <td>1.000007e+00</td>\n",
       "      <td>1.000007e+00</td>\n",
       "      <td>1.000007e+00</td>\n",
       "      <td>1.000007e+00</td>\n",
       "      <td>1.000007e+00</td>\n",
       "      <td>0.499997</td>\n",
       "    </tr>\n",
       "    <tr>\n",
       "      <th>min</th>\n",
       "      <td>0.000000</td>\n",
       "      <td>0.000000</td>\n",
       "      <td>4.000000</td>\n",
       "      <td>0.000000</td>\n",
       "      <td>0.000000</td>\n",
       "      <td>-2.275740e+00</td>\n",
       "      <td>-3.256822e+00</td>\n",
       "      <td>-2.872179e+00</td>\n",
       "      <td>-1.506974e+00</td>\n",
       "      <td>-8.303974e+00</td>\n",
       "      <td>-7.490449e-01</td>\n",
       "      <td>-9.145838e-01</td>\n",
       "      <td>-4.480075e-01</td>\n",
       "      <td>-1.109077e+00</td>\n",
       "      <td>-1.950865e+00</td>\n",
       "      <td>-3.182094e+00</td>\n",
       "      <td>-1.253332e+01</td>\n",
       "      <td>0.000000</td>\n",
       "    </tr>\n",
       "    <tr>\n",
       "      <th>25%</th>\n",
       "      <td>16940.000000</td>\n",
       "      <td>6603.000000</td>\n",
       "      <td>8928.750000</td>\n",
       "      <td>14376.000000</td>\n",
       "      <td>30.000000</td>\n",
       "      <td>-5.576185e-01</td>\n",
       "      <td>-6.622711e-01</td>\n",
       "      <td>-6.950852e-01</td>\n",
       "      <td>-9.404033e-01</td>\n",
       "      <td>-4.762677e-01</td>\n",
       "      <td>-5.576194e-01</td>\n",
       "      <td>-8.666782e-01</td>\n",
       "      <td>-4.480075e-01</td>\n",
       "      <td>-6.090437e-01</td>\n",
       "      <td>-8.116754e-01</td>\n",
       "      <td>-8.056051e-01</td>\n",
       "      <td>1.940021e-01</td>\n",
       "      <td>0.000000</td>\n",
       "    </tr>\n",
       "    <tr>\n",
       "      <th>50%</th>\n",
       "      <td>33418.500000</td>\n",
       "      <td>12775.000000</td>\n",
       "      <td>17919.000000</td>\n",
       "      <td>27378.500000</td>\n",
       "      <td>57.000000</td>\n",
       "      <td>-1.479181e-01</td>\n",
       "      <td>5.704748e-02</td>\n",
       "      <td>1.642254e-01</td>\n",
       "      <td>-9.054719e-02</td>\n",
       "      <td>2.071160e-01</td>\n",
       "      <td>-3.748297e-01</td>\n",
       "      <td>-4.516039e-01</td>\n",
       "      <td>-4.479142e-01</td>\n",
       "      <td>-4.176626e-01</td>\n",
       "      <td>-3.366513e-02</td>\n",
       "      <td>-6.472183e-03</td>\n",
       "      <td>1.940021e-01</td>\n",
       "      <td>0.000000</td>\n",
       "    </tr>\n",
       "    <tr>\n",
       "      <th>75%</th>\n",
       "      <td>49930.250000</td>\n",
       "      <td>19235.000000</td>\n",
       "      <td>27109.000000</td>\n",
       "      <td>41024.000000</td>\n",
       "      <td>85.000000</td>\n",
       "      <td>3.702953e-01</td>\n",
       "      <td>7.388364e-01</td>\n",
       "      <td>8.455978e-01</td>\n",
       "      <td>7.593089e-01</td>\n",
       "      <td>7.003795e-01</td>\n",
       "      <td>8.286423e-02</td>\n",
       "      <td>7.605030e-01</td>\n",
       "      <td>-3.929915e-01</td>\n",
       "      <td>3.376400e-01</td>\n",
       "      <td>8.038868e-01</td>\n",
       "      <td>5.904729e-01</td>\n",
       "      <td>1.940021e-01</td>\n",
       "      <td>1.000000</td>\n",
       "    </tr>\n",
       "    <tr>\n",
       "      <th>max</th>\n",
       "      <td>66719.000000</td>\n",
       "      <td>25774.000000</td>\n",
       "      <td>37314.000000</td>\n",
       "      <td>55766.000000</td>\n",
       "      <td>113.000000</td>\n",
       "      <td>5.588559e+01</td>\n",
       "      <td>2.527750e+00</td>\n",
       "      <td>1.461871e+00</td>\n",
       "      <td>1.609165e+00</td>\n",
       "      <td>2.655602e+00</td>\n",
       "      <td>1.152665e+01</td>\n",
       "      <td>2.287693e+00</td>\n",
       "      <td>3.191794e+00</td>\n",
       "      <td>4.517359e+00</td>\n",
       "      <td>1.994719e+00</td>\n",
       "      <td>3.466172e+00</td>\n",
       "      <td>3.375832e+00</td>\n",
       "      <td>1.000000</td>\n",
       "    </tr>\n",
       "  </tbody>\n",
       "</table>\n",
       "</div>"
      ],
      "text/plain": [
       "           track_id       artists    album_name    track_name   track_genre  \\\n",
       "count  71820.000000  71820.000000  71820.000000  71820.000000  71820.000000   \n",
       "mean   33420.583083  12867.553801  18070.648134  27639.288847     57.287413   \n",
       "std    19148.199272   7372.022352  10703.533596  15737.991025     32.322040   \n",
       "min        0.000000      0.000000      4.000000      0.000000      0.000000   \n",
       "25%    16940.000000   6603.000000   8928.750000  14376.000000     30.000000   \n",
       "50%    33418.500000  12775.000000  17919.000000  27378.500000     57.000000   \n",
       "75%    49930.250000  19235.000000  27109.000000  41024.000000     85.000000   \n",
       "max    66719.000000  25774.000000  37314.000000  55766.000000    113.000000   \n",
       "\n",
       "        duration_ms  danceability        energy           key      loudness  \\\n",
       "count  7.182000e+04  7.182000e+04  7.182000e+04  7.182000e+04  7.182000e+04   \n",
       "mean   2.928441e-17  4.847757e-16 -3.640765e-17 -3.264816e-17 -7.697052e-17   \n",
       "std    1.000007e+00  1.000007e+00  1.000007e+00  1.000007e+00  1.000007e+00   \n",
       "min   -2.275740e+00 -3.256822e+00 -2.872179e+00 -1.506974e+00 -8.303974e+00   \n",
       "25%   -5.576185e-01 -6.622711e-01 -6.950852e-01 -9.404033e-01 -4.762677e-01   \n",
       "50%   -1.479181e-01  5.704748e-02  1.642254e-01 -9.054719e-02  2.071160e-01   \n",
       "75%    3.702953e-01  7.388364e-01  8.455978e-01  7.593089e-01  7.003795e-01   \n",
       "max    5.588559e+01  2.527750e+00  1.461871e+00  1.609165e+00  2.655602e+00   \n",
       "\n",
       "        speechiness  acousticness  instrumentalness      liveness  \\\n",
       "count  7.182000e+04  7.182000e+04      7.182000e+04  7.182000e+04   \n",
       "mean   7.835559e-17 -1.482029e-16      8.458842e-18  9.428394e-17   \n",
       "std    1.000007e+00  1.000007e+00      1.000007e+00  1.000007e+00   \n",
       "min   -7.490449e-01 -9.145838e-01     -4.480075e-01 -1.109077e+00   \n",
       "25%   -5.576194e-01 -8.666782e-01     -4.480075e-01 -6.090437e-01   \n",
       "50%   -3.748297e-01 -4.516039e-01     -4.479142e-01 -4.176626e-01   \n",
       "75%    8.286423e-02  7.605030e-01     -3.929915e-01  3.376400e-01   \n",
       "max    1.152665e+01  2.287693e+00      3.191794e+00  4.517359e+00   \n",
       "\n",
       "            valence         tempo  time_signature  popularity_target  \n",
       "count  7.182000e+04  7.182000e+04    7.182000e+04       71820.000000  \n",
       "mean  -1.144664e-16  1.838190e-16    5.817309e-17           0.497536  \n",
       "std    1.000007e+00  1.000007e+00    1.000007e+00           0.499997  \n",
       "min   -1.950865e+00 -3.182094e+00   -1.253332e+01           0.000000  \n",
       "25%   -8.116754e-01 -8.056051e-01    1.940021e-01           0.000000  \n",
       "50%   -3.366513e-02 -6.472183e-03    1.940021e-01           0.000000  \n",
       "75%    8.038868e-01  5.904729e-01    1.940021e-01           1.000000  \n",
       "max    1.994719e+00  3.466172e+00    3.375832e+00           1.000000  "
      ]
     },
     "execution_count": 11,
     "metadata": {},
     "output_type": "execute_result"
    }
   ],
   "source": [
    "df_normalized = df_normalized[categorical_cols + numerical_cols + target_column]\n",
    "scaler = StandardScaler()\n",
    "df_normalized[numerical_cols] = scaler.fit_transform(df_normalized[numerical_cols])\n",
    "df_normalized.describe()"
   ]
  },
  {
   "cell_type": "markdown",
   "metadata": {},
   "source": [
    "<center> <h3>Hipóteses<hr /><h3/> </center>\n",
    "\n",
    "1. **Duração das Músicas**\n",
    "\n",
    "**Insight**: A coluna duration_ms possui um valor médio de aproximadamente 1,29 segundos, com um intervalo entre 0 e 53 segundos. </br>\n",
    "**Hipótese**: Músicas com duração média (em torno de 3-4 minutos) têm maior popularidade em comparação com músicas muito curtas ou longas.\n",
    "\n",
    "\n",
    "2. **Danceabilidade**\n",
    "\n",
    "**Insight**: O valor médio de danceability é 57,69, e a variabilidade é alta (mínimo de 31 e máximo de 113). </br>\n",
    "**Hipótese**: Músicas com níveis mais altos de danceabilidade tendem a ser mais populares, especialmente em gêneros como pop e dance.\n",
    "\n",
    "\n",
    "6. **Gênero da Música**\n",
    "\n",
    "**Insight**: A coluna track_genre não possui uma análise descritiva direta, mas é um fator importante. </br>\n",
    "**Hipótese**: Certos gêneros, como pop e hip-hop, têm uma maior popularidade em comparação com gêneros menos mainstream, como jazz ou música clássica.\n",
    "\n",
    "9. **Instrumentalidade**\n",
    "\n",
    "**Insight**: A média de instrumentalness e os extremos indicam que a maioria das músicas contém vocais. </br>\n",
    "**Hipótese**: Músicas com menor instrumentalidade (mais vocais) tendem a ser mais populares do que as músicas puramente instrumentais.\n"
   ]
  },
  {
   "cell_type": "markdown",
   "metadata": {},
   "source": [
    "&emsp;Criação da matriz de correlação:"
   ]
  },
  {
   "cell_type": "code",
   "execution_count": 12,
   "metadata": {},
   "outputs": [],
   "source": [
    "correlation_matrix = df_normalized.corr()\n",
    "\n",
    "plt.figure(figsize=(12, 8))\n",
    "sns.heatmap(correlation_matrix, annot=True, fmt=\".2f\", cmap='coolwarm', square=True)\n",
    "plt.title('Matriz de Correlação')\n",
    "\n",
    "plt.savefig('matriz_de_correlacao.png', dpi=300) \n",
    "\n",
    "plt.close()"
   ]
  },
  {
   "cell_type": "markdown",
   "metadata": {},
   "source": [
    "&emsp;Ao analisar a matriz de correlação, é notório a pouca correlação entre as variáveis, que dificulta a abordagem supervisionada. As maiores relações são entre ```track_name``` e ```album_name``` (0.30), ```valence``` e ```danceability``` (0.40) e, por fim, ```loudness``` e ```energy``` (0.70), apresentando a maior correlação."
   ]
  },
  {
   "cell_type": "markdown",
   "metadata": {},
   "source": [
    "&emsp;Criação do modelo:"
   ]
  },
  {
   "cell_type": "code",
   "execution_count": 33,
   "metadata": {},
   "outputs": [
    {
     "name": "stderr",
     "output_type": "stream",
     "text": [
      "c:\\Users\\Inteli\\AppData\\Local\\Programs\\Python\\Python312\\Lib\\site-packages\\sklearn\\base.py:1473: DataConversionWarning: A column-vector y was passed when a 1d array was expected. Please change the shape of y to (n_samples,), for example using ravel().\n",
      "  return fit_method(estimator, *args, **kwargs)\n"
     ]
    },
    {
     "name": "stdout",
     "output_type": "stream",
     "text": [
      "Acurácia: 0.8192703982177666\n",
      "Precisão: 0.819287281518922\n",
      "Recall: 0.8192793830262424\n"
     ]
    }
   ],
   "source": [
    "from sklearn.metrics import accuracy_score, precision_score, recall_score\n",
    "\n",
    "features = df_normalized.drop(columns='popularity_target').values \n",
    "target = df_normalized[target_column].values\n",
    "\n",
    "X_train, X_val, y_train, y_val, track_train, track_val = train_test_split(\n",
    "    features, target, df_normalized['track_id'].values, test_size=0.2, random_state=42\n",
    ")\n",
    "\n",
    "rf_model = RandomForestClassifier(n_estimators=100, random_state=42, max_depth=50, min_samples_split=2, min_samples_leaf=1, bootstrap=False)\n",
    "rf_model.fit(X_train, y_train)\n",
    "\n",
    "y_pred = rf_model.predict(X_val)\n",
    "\n",
    "accuracy = accuracy_score(y_val, y_pred)\n",
    "precision = precision_score(y_val, y_pred, average='macro') \n",
    "recall = recall_score(y_val, y_pred, average='macro')\n",
    "\n",
    "print(f\"Acurácia: {accuracy}\")\n",
    "print(f\"Precisão: {precision}\")\n",
    "print(f\"Recall: {recall}\")"
   ]
  },
  {
   "cell_type": "markdown",
   "metadata": {},
   "source": [
    "&emsp;Otimização dos parâmetros:"
   ]
  },
  {
   "cell_type": "code",
   "execution_count": 13,
   "metadata": {},
   "outputs": [
    {
     "name": "stdout",
     "output_type": "stream",
     "text": [
      "Fitting 5 folds for each of 216 candidates, totalling 1080 fits\n"
     ]
    }
   ],
   "source": [
    "from sklearn.model_selection import GridSearchCV\n",
    "\n",
    "param_grid = {\n",
    "    'n_estimators': [50, 100, 200],\n",
    "    'max_depth': [10, 20, 30, None],\n",
    "    'min_samples_split': [2, 5, 10],\n",
    "    'min_samples_leaf': [1, 2, 4],\n",
    "    'bootstrap': [True, False]\n",
    "}\n",
    "\n",
    "rf_model = RandomForestClassifier(random_state=42)\n",
    "\n",
    "grid_search = GridSearchCV(estimator=rf_model, param_grid=param_grid, \n",
    "                           cv=5, n_jobs=-1, verbose=2, scoring='accuracy')\n",
    "\n",
    "grid_search.fit(X_train, y_train)\n",
    "\n",
    "best_params = grid_search.best_params_\n",
    "print(\"Melhores parâmetros encontrados:\", best_params)\n",
    "\n",
    "best_rf_model = grid_search.best_estimator_\n",
    "y_pred = best_rf_model.predict(X_val)\n",
    "\n",
    "accuracy = accuracy_score(y_val, y_pred)\n",
    "precision = precision_score(y_val, y_pred, average='macro')\n",
    "recall = recall_score(y_val, y_pred, average='macro')"
   ]
  }
 ],
 "metadata": {
  "kernelspec": {
   "display_name": "Python 3",
   "language": "python",
   "name": "python3"
  },
  "language_info": {
   "codemirror_mode": {
    "name": "ipython",
    "version": 3
   },
   "file_extension": ".py",
   "mimetype": "text/x-python",
   "name": "python",
   "nbconvert_exporter": "python",
   "pygments_lexer": "ipython3",
   "version": "3.12.0"
  }
 },
 "nbformat": 4,
 "nbformat_minor": 2
}
